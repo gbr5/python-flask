{
 "cells": [
  {
   "cell_type": "markdown",
   "metadata": {},
   "source": [
    "# Flask\n",
    "[Welcome to Flask — Flask Documentation (2.1.x)](https://flask.palletsprojects.com/en/2.1.x/)\n",
    "[Download Flask Project Documentation](https://flask.palletsprojects.com/_/downloads/en/1.1.x/pdf/)\n",
    "\n",
    "Flask is a mini-framework that allows you to create a web app (or website) using python."
   ]
  },
  {
   "cell_type": "markdown",
   "metadata": {},
   "source": [
    "## First Steps\n",
    "* For those that are using pycharm you can skip the \"Virtual Environment\" step."
   ]
  },
  {
   "cell_type": "markdown",
   "metadata": {},
   "source": [
    "### Creating your Virtual Environment\n",
    "\n",
    "First of all create the virtual environment of the project\n",
    "https://github.com/gbr5/python_virtual_environment"
   ]
  },
  {
   "cell_type": "code",
   "execution_count": null,
   "metadata": {
    "vscode": {
     "languageId": "shellscript"
    }
   },
   "outputs": [],
   "source": [
    "pip install flask\n",
    "\n",
    "# The command below shows us all the project dependencies\n",
    "pip freeze"
   ]
  },
  {
   "cell_type": "markdown",
   "metadata": {},
   "source": [
    "### Creating the main file of the project app.py"
   ]
  },
  {
   "cell_type": "code",
   "execution_count": null,
   "metadata": {},
   "outputs": [],
   "source": [
    "# app.py\n",
    "from flask import Flask\n",
    "\n",
    "# Create a Flask Instance\n",
    "app = Flask(__name__)\n",
    "\n",
    "# Create a route decorator\n",
    "@app.route('/')\n",
    "def index():\n",
    "\treturn \"<h1>Hello World!</h1>\""
   ]
  },
  {
   "cell_type": "markdown",
   "metadata": {},
   "source": [
    "### Creating the environment variables:\n",
    "informing that it is a development environment"
   ]
  },
  {
   "cell_type": "code",
   "execution_count": null,
   "metadata": {
    "vscode": {
     "languageId": "shellscript"
    }
   },
   "outputs": [],
   "source": [
    "export FLASK_ENV=development"
   ]
  },
  {
   "cell_type": "markdown",
   "metadata": {},
   "source": [
    "Informing the server that our app sits on app.py"
   ]
  },
  {
   "cell_type": "code",
   "execution_count": null,
   "metadata": {
    "vscode": {
     "languageId": "shellscript"
    }
   },
   "outputs": [],
   "source": [
    "export FLASK_APP=app.py"
   ]
  },
  {
   "cell_type": "markdown",
   "metadata": {},
   "source": [
    "Now our server will update itself every time we save a change in our project\n",
    "\n",
    "To see the first page run the command below"
   ]
  },
  {
   "cell_type": "code",
   "execution_count": null,
   "metadata": {
    "vscode": {
     "languageId": "shellscript"
    }
   },
   "outputs": [],
   "source": [
    "flask run"
   ]
  },
  {
   "cell_type": "markdown",
   "metadata": {},
   "source": [
    "And go to http://localhost:5000 or http://127.0.0.1:5000 or the url it generates on your terminal"
   ]
  },
  {
   "cell_type": "markdown",
   "metadata": {},
   "source": [
    "### Using Variables from the url"
   ]
  },
  {
   "cell_type": "code",
   "execution_count": null,
   "metadata": {},
   "outputs": [],
   "source": [
    "from flask import Flask\n",
    "\n",
    "# Create a Flask instance\n",
    "app = Flask(__name__)\n",
    "\n",
    "\n",
    "# Create a route decorator\n",
    "@app.route('/user/<name>')\n",
    "def index(name):\n",
    "\treturn f\"<h1>Hello {name}!</h1>\""
   ]
  },
  {
   "cell_type": "markdown",
   "metadata": {},
   "source": [
    "### Using render_template"
   ]
  },
  {
   "cell_type": "code",
   "execution_count": null,
   "metadata": {
    "vscode": {
     "languageId": "shellscript"
    }
   },
   "outputs": [],
   "source": [
    "# Create a dir 'templates'\n",
    "mkdir templates\n",
    "\n",
    "# Create a file 'index.html'\n",
    "touch templates/index.html"
   ]
  },
  {
   "cell_type": "code",
   "execution_count": null,
   "metadata": {
    "vscode": {
     "languageId": "html"
    }
   },
   "outputs": [],
   "source": [
    "<!-- index.html -->\n",
    "<h1>Hello World</h1>"
   ]
  },
  {
   "cell_type": "code",
   "execution_count": null,
   "metadata": {},
   "outputs": [],
   "source": [
    "# app.py\n",
    "from flask import Flask, render_template\n",
    "\n",
    "# Create a Flask Instance\n",
    "app = Flask(__name__)\n",
    "\n",
    "\n",
    "# Create a route decorator\n",
    "@app.route('/')\n",
    "def index():\n",
    "\treturn render_template('index.html')"
   ]
  },
  {
   "cell_type": "markdown",
   "metadata": {},
   "source": [
    "Save it and hit reload on your browser"
   ]
  },
  {
   "cell_type": "markdown",
   "metadata": {},
   "source": [
    "## Jinja\n",
    " \n",
    "[Jinja](https://jinja.palletsprojects.com/en/3.1.x/)\n",
    "Jinja allows you to take advantage of templates feature, which is great for reusing code and to speed up the development process.\n",
    "\n",
    "It also allows us to use ‘python’ code inside our html file, making it more dynamic."
   ]
  },
  {
   "cell_type": "code",
   "execution_count": null,
   "metadata": {
    "vscode": {
     "languageId": "shellscript"
    }
   },
   "outputs": [],
   "source": [
    "touch templates/user.html"
   ]
  },
  {
   "cell_type": "code",
   "execution_count": null,
   "metadata": {
    "vscode": {
     "languageId": "html"
    }
   },
   "outputs": [],
   "source": [
    "<!-- user.html -->\n",
    "<h1>Hello {{ name }}</h1>"
   ]
  },
  {
   "cell_type": "code",
   "execution_count": null,
   "metadata": {},
   "outputs": [],
   "source": [
    "# app.py\n",
    "from flask import Flask, render_template\n",
    "\n",
    "# Create a Flask instance\n",
    "app = Flask(__name__)\n",
    "\n",
    "# Create a route decorator\n",
    "@app.route('/')\n",
    "def index():\n",
    "\treturn render_template('index.html')\n",
    "\n",
    "# Create a dynamic route decorator\n",
    "# passing a variable through the render_template\n",
    "@app.route('/user/<name>')\n",
    "def index(name):\n",
    "\treturn render_template('users.html', name=name)"
   ]
  },
  {
   "cell_type": "markdown",
   "metadata": {},
   "source": [
    "### Filters\n",
    "\n",
    "[Filters - Template Designer Documentation — Jinja Documentation (3.1.x)](https://jinja.palletsprojects.com/en/3.1.x/templates/#filters)\n",
    "\n",
    "[List of Filters - Template Designer Documentation — Jinja Documentation (3.1.x)](https://jinja.palletsprojects.com/en/3.1.x/templates/#list-of-builtin-filters)"
   ]
  },
  {
   "cell_type": "code",
   "execution_count": null,
   "metadata": {},
   "outputs": [],
   "source": [
    "from flask import Flask, render_template\n",
    "\n",
    "# Create a Flask Instance\n",
    "app = Flask(__name__)\n",
    "\n",
    "\n",
    "# Create a Route Decorator\n",
    "@app.route('/')\n",
    "def index():\n",
    "  stuff = \"Some stuff\"\n",
    "  return render_template('index.html', stuff=stuff)"
   ]
  },
  {
   "cell_type": "markdown",
   "metadata": {},
   "source": [
    "#### Safe\n",
    "\n",
    "Safe allows you to safely render html tags that were passed through a variable\n",
    "\n",
    "Otherwise it would be render as plain text"
   ]
  },
  {
   "cell_type": "code",
   "execution_count": null,
   "metadata": {
    "vscode": {
     "languageId": "html"
    }
   },
   "outputs": [],
   "source": [
    "<p>This is an html content {{ stuff|safe }}</p>"
   ]
  },
  {
   "cell_type": "markdown",
   "metadata": {},
   "source": [
    "#### Capitalize"
   ]
  },
  {
   "cell_type": "code",
   "execution_count": null,
   "metadata": {
    "vscode": {
     "languageId": "html"
    }
   },
   "outputs": [],
   "source": [
    "<p>This is a Capitalized string {{ stuff|capitalize }}</p>"
   ]
  },
  {
   "cell_type": "markdown",
   "metadata": {},
   "source": [
    "#### Lower"
   ]
  },
  {
   "cell_type": "code",
   "execution_count": null,
   "metadata": {
    "vscode": {
     "languageId": "html"
    }
   },
   "outputs": [],
   "source": [
    "<p>This is a lower case string {{ stuff|lower }}</p>"
   ]
  },
  {
   "cell_type": "markdown",
   "metadata": {},
   "source": [
    "#### Upper"
   ]
  },
  {
   "cell_type": "code",
   "execution_count": null,
   "metadata": {
    "vscode": {
     "languageId": "html"
    }
   },
   "outputs": [],
   "source": [
    "<p>This is a upper case string {{ stuff|upper }}</p>"
   ]
  },
  {
   "cell_type": "markdown",
   "metadata": {},
   "source": [
    "#### Title"
   ]
  },
  {
   "cell_type": "code",
   "execution_count": null,
   "metadata": {
    "vscode": {
     "languageId": "html"
    }
   },
   "outputs": [],
   "source": [
    "<!-- Title capitalizes every word on the string -->\n",
    "<p>This is a title string {{ stuff|title }}</p>"
   ]
  },
  {
   "cell_type": "markdown",
   "metadata": {},
   "source": [
    "### Trim"
   ]
  },
  {
   "cell_type": "code",
   "execution_count": null,
   "metadata": {
    "vscode": {
     "languageId": "html"
    }
   },
   "outputs": [],
   "source": [
    "<!-- trim removes all white spaces from the string -->\n",
    "<p>This is a trimmed string {{ stuff|trim }}</p>"
   ]
  },
  {
   "cell_type": "markdown",
   "metadata": {},
   "source": [
    "#### Striptags\n",
    "\n",
    "This is an important feature to prevent ill intended users to inject malicious code into the website, server, etc..."
   ]
  },
  {
   "cell_type": "code",
   "execution_count": null,
   "metadata": {
    "vscode": {
     "languageId": "html"
    }
   },
   "outputs": [],
   "source": [
    "<!-- Striptags removes all html tags from the string, sanitizing it -->\n",
    "<p>This is a tagless string {{ stuff|striptags }}</p>"
   ]
  },
  {
   "cell_type": "markdown",
   "metadata": {},
   "source": [
    "#### Escape\n",
    "...."
   ]
  },
  {
   "cell_type": "code",
   "execution_count": null,
   "metadata": {
    "vscode": {
     "languageId": "html"
    }
   },
   "outputs": [],
   "source": [
    "<!-- Escape .... -->\n",
    "<p>This is a .... string {{ stuff|escape }}</p>"
   ]
  },
  {
   "cell_type": "markdown",
   "metadata": {},
   "source": [
    "### Python Logic Operators on HTML\n",
    "\n",
    "One of the features of Jinja is allowing us to use python directly on html page, facilitating the manipulation on the DOM and variables"
   ]
  },
  {
   "cell_type": "code",
   "execution_count": null,
   "metadata": {},
   "outputs": [],
   "source": [
    "from flask import Flask, render_template\n",
    "\n",
    "# Create a Flask instance\n",
    "app = Flask(__name__)\n",
    "\n",
    "\n",
    "# Create a Route Decorator\n",
    "@app.route('/')\n",
    "def index():\n",
    "  pizza_toppings = ['Peperoni', 'Cheese', 'Marguerita']\n",
    "\n",
    "  return render_template('index.html', pizza_toppings=pizza_toppings)"
   ]
  },
  {
   "cell_type": "markdown",
   "metadata": {},
   "source": [
    "{% \"Your logic goes here\" %} => allows us to use logic operators inside html\n",
    "\n",
    "{{ \"Your variables comes here\" }} => allows us to use variables inside html"
   ]
  },
  {
   "cell_type": "code",
   "execution_count": null,
   "metadata": {
    "vscode": {
     "languageId": "html"
    }
   },
   "outputs": [],
   "source": [
    "...\n",
    "\n",
    "<h1>HTML Page</h1>\n",
    "<ol>\n",
    "  {% for pizza_topping in pizza_toppings %}\n",
    "    {% if pizza_topping is 'Peperonu' %}\n",
    "      <li>Yay {{ pizza_topping }} pizza!</li>\n",
    "    {% else %}\n",
    "      <li>{{ pizza_topping }}</li>\n",
    "    {% endif %}\n",
    "    <!-- every time we use a logic operator such as loop for or if statements -->\n",
    "    <!-- is important to close them like we did it right here -->\n",
    "  {% endfor %}\n",
    "</ol>\n",
    "<br/>\n",
    "<!-- We can also just print the list -->\n",
    "{{ pizza_toppings }}\n",
    "<br/>\n",
    "<!-- Or we can choose one element of the list like we did it below -->\n",
    "{{ pizza_toppings.0 }}"
   ]
  },
  {
   "cell_type": "markdown",
   "metadata": {},
   "source": [
    "### Templates\n",
    "\n",
    "Another feature of jinja is the ability to create templates to be able to reutilize code between pages of your applications."
   ]
  },
  {
   "cell_type": "code",
   "execution_count": null,
   "metadata": {
    "vscode": {
     "languageId": "shellscript"
    }
   },
   "outputs": [],
   "source": [
    "touch templates/base.html"
   ]
  },
  {
   "cell_type": "code",
   "execution_count": null,
   "metadata": {
    "vscode": {
     "languageId": "html"
    }
   },
   "outputs": [],
   "source": [
    "<h1>This is a template</h1>\n",
    "\n",
    "{% block content %}\n",
    "\n",
    "<!-- Content from other pages that uses this one as template will go here -->\n",
    "\n",
    "{% endblock %}"
   ]
  },
  {
   "cell_type": "markdown",
   "metadata": {},
   "source": [
    "## Error Pages\n",
    "\n",
    "Error pages are important to comunicate to users what is happening.\n",
    "\n",
    "Thus improving the user experience, and potencially helping them to navigate smoothly through our applications.\n",
    "\n",
    "We use codes to differentiate between errors"
   ]
  },
  {
   "cell_type": "markdown",
   "metadata": {},
   "source": [
    "### 404 - Page Not Found\n",
    "\n",
    "404 error code means that the page the user is trying to reach does not exists."
   ]
  },
  {
   "cell_type": "code",
   "execution_count": null,
   "metadata": {
    "vscode": {
     "languageId": "shellscript"
    }
   },
   "outputs": [],
   "source": [
    "touch templates/404.html"
   ]
  },
  {
   "cell_type": "code",
   "execution_count": null,
   "metadata": {},
   "outputs": [],
   "source": [
    "from flask import Flask, render_template\n",
    "\n",
    "# Create a Flask instance\n",
    "app = Flask(__name__)\n",
    "\n",
    "\n",
    "# Create a Route Decorator\n",
    "@app.route('/')\n",
    "def index():\n",
    "  return render_template('index.html')\n",
    "\n",
    "\n",
    "@app.errorhandler(404)\n",
    "def page_not_found(e):\n",
    "  return render_template('404.html'), 404"
   ]
  },
  {
   "cell_type": "markdown",
   "metadata": {},
   "source": [
    "### 500 - Internal Server Error\n",
    "\n",
    "500 error code means that something happened to the server, and that prevented the correct communication."
   ]
  },
  {
   "cell_type": "code",
   "execution_count": null,
   "metadata": {},
   "outputs": [],
   "source": [
    "# app.py\n",
    "from flask import Flask, render_template\n",
    "\n",
    "# Create a Flask instance\n",
    "app = Flask(__name__)\n",
    "\n",
    "\n",
    "# Create a Route Decorator\n",
    "@app.route('/')\n",
    "def index():\n",
    "  return render_template('index.html')\n",
    "\n",
    "\n",
    "@app.errorhandler(404)\n",
    "def page_not_found(e):\n",
    "  return render_template('404.html'), 404\n",
    "\n",
    "\n",
    "@app.errorhandler(500)\n",
    "def internal_server_error(e):\n",
    "  return render_template('500.html'), 500"
   ]
  },
  {
   "cell_type": "markdown",
   "metadata": {},
   "source": [
    "## What The Form | WTD-Flask\n",
    "\n",
    "[Flask-WTF — Flask-WTF Documentation (1.0.x)](https://flask-wtf.readthedocs.io/en/1.0.x/)\n",
    "\n",
    "WTF-Flask is a module that allows you to create forms taking advantage of its power and simplicity"
   ]
  },
  {
   "cell_type": "markdown",
   "metadata": {},
   "source": [
    "### Let's create a form\n",
    "\n",
    "The form we will create will have:\n",
    "- name\n",
    "- family name\n",
    "- email\n",
    "- password\n",
    "- country\n",
    "- genre\n",
    "- subjects\n",
    "- message\n",
    "- honey pot field (honeypot is a field to prevent bots from spaming our form)\n",
    "\n",
    "We will also take other measures in order to secure our form from ill intention hackers"
   ]
  },
  {
   "cell_type": "code",
   "execution_count": null,
   "metadata": {
    "vscode": {
     "languageId": "shellscript"
    }
   },
   "outputs": [],
   "source": [
    "pip install -U wtforms flask_wtf"
   ]
  },
  {
   "cell_type": "markdown",
   "metadata": {},
   "source": [
    "### CSRF - Cross-site Request Forgery\n",
    "\n",
    "[CSRF Protection — Flask-WTF Documentation (0.15.x)](https://flask-wtf.readthedocs.io/en/0.15.x/csrf/)"
   ]
  },
  {
   "cell_type": "markdown",
   "metadata": {},
   "source": [
    "[Cross Site Requesr Forgery (CSRF) - Author: KirstenS](https://owasp.org/www-community/attacks/csrf)"
   ]
  },
  {
   "cell_type": "markdown",
   "metadata": {},
   "source": [
    "Cross-Site Request Forgery (CSRF) is an attack that forces an end user to execute unwanted actions on a web application in which they’re currently authenticated. With a little help of social engineering (such as sending a link via email or chat), an attacker may trick the users of a web application into executing actions of the attacker’s choosing. If the victim is a normal user, a successful CSRF attack can force the user to perform state changing requests like transferring funds, changing their email address, and so forth. If the victim is an administrative account, CSRF can compromise the entire web application."
   ]
  },
  {
   "cell_type": "markdown",
   "metadata": {},
   "source": [
    "### Multi Selection Checkbox Field\n",
    "\n",
    "[Checkbox WTForms Example (in Flask) · GitHub](https://gist.github.com/doobeh/4668212)"
   ]
  },
  {
   "cell_type": "markdown",
   "metadata": {},
   "source": [
    "### Honey Pot\n",
    "\n",
    "Honey pot is a strategy that prevents bots from spaming our forms."
   ]
  },
  {
   "cell_type": "markdown",
   "metadata": {},
   "source": [
    "It consists of a field that is invisible for humans, but not for bots. "
   ]
  },
  {
   "cell_type": "markdown",
   "metadata": {},
   "source": [
    "So the bot will respond the field but not humans, then in our form validation function we will only submit forms that have that particular field empty."
   ]
  },
  {
   "cell_type": "markdown",
   "metadata": {},
   "source": [
    "It is important to know that nowadays bots are programmed to not respond to fields that have the hidden css attribute, or that are marked as a honeypot field, so be carefull to not include those things.\n",
    "\n",
    "We will use the in-line css at the html file to make it invisible to the human eye."
   ]
  },
  {
   "cell_type": "markdown",
   "metadata": {},
   "source": [
    "You can see more about it in these links"
   ]
  },
  {
   "cell_type": "markdown",
   "metadata": {},
   "source": [
    "[What is a honeypot? How honeypots help security](https://www.kaspersky.com/resource-center/threats/what-is-a-honeypot)"
   ]
  },
  {
   "cell_type": "markdown",
   "metadata": {},
   "source": [
    "[How to create a simple honeypot to protect your web forms from spammers](https://dev.to/felipperegazio/how-to-create-a-simple-honeypot-to-protect-your-web-forms-from-spammers--25n8)"
   ]
  },
  {
   "cell_type": "markdown",
   "metadata": {},
   "source": [
    "https://owasp.org/www-project-python-honeypot/migrated_content"
   ]
  },
  {
   "cell_type": "code",
   "execution_count": null,
   "metadata": {},
   "outputs": [],
   "source": [
    "import requests\n",
    "from flask import Flask, render_template\n",
    "from flask_wtf import FlaskForm\n",
    "from wtforms import widgets, StringField, SubmitField, PasswordField, EmailField, SelectField, RadioField, TextAreaField, \\\n",
    "    SelectMultipleField\n",
    "from wtforms.validators import DataRequired, Email, Length\n",
    "from flask_wtf.csrf import CSRFProtect\n",
    "\n",
    "# Create a Flask Instance\n",
    "app = Flask(__name__)\n",
    "csrf = CSRFProtect(app)\n",
    "app.config['SECRET_KEY'] = \"my_secret_key\"\n",
    "\n",
    "# Creating a list with all country names\n",
    "countries_api = 'https://restcountries.com/v2/all'\n",
    "countries_response = requests.get(countries_api).json()\n",
    "countries = []\n",
    "for elem in countries_response:\n",
    "    countries.append(list(elem.items())[0][1])\n",
    "\n",
    "\n",
    "# Creating a Field with multiple selection checkbox options\n",
    "class MultiCheckboxField(SelectMultipleField):\n",
    "    widget = widgets.ListWidget(prefix_label=False)\n",
    "    option_widget = widgets.CheckboxInput()\n",
    "\n",
    "\n",
    "# Create a Form Class\n",
    "class MainForm(FlaskForm):\n",
    "    # For the fields that require multiple choice we first create a list of options\n",
    "    subject_choices = [(\"fix\", \"Réparation\"), (\"order\", \"Commande\"), (\"other\", \"Autres\")]\n",
    "    genres = [\"M\", \"F\", \"X\"]\n",
    "    hpfield_choices = [\"oui\", \"non\"]\n",
    "\n",
    "    name = StringField(\"Name\", validators=[DataRequired()]) # 1\n",
    "    family_name = StringField(\"Family name\", validators=[DataRequired()]) # 2\n",
    "    email = EmailField(\"E-mail?\", validators=[DataRequired(), Email(message=\"Vous devez entrer un e-mail valide\")]) # 3\n",
    "    password = PasswordField(\"Password\", validators=[DataRequired(), Length(min=8, message=\"Votre mot de passe doit avoir un minimum de 8 character\")]) # 4\n",
    "    country = SelectField(\"Country\", validators=[DataRequired()], choices=countries) # 5\n",
    "    genre = RadioField('Genre', validators=[DataRequired()], choices=genres) # 6\n",
    "    subjects = MultiCheckboxField('Subject(s)', choices=subject_choices) # 7\n",
    "    message = TextAreaField('Message', validators=[DataRequired()]) # 8\n",
    "    hpfield = StringField(\"E-mail for subscription\") # 9\n",
    "    submit = SubmitField(\"Send\")\n",
    "\n",
    "\n",
    "# Create a Route Decorator\n",
    "@app.route('/')\n",
    "def index():\n",
    "    return render_template('index.html')\n",
    "\n",
    "\n",
    "# Invalid URL page\n",
    "@app.errorhandler(404)\n",
    "def page_not_found(e):\n",
    "    return render_template('404.html'), 404\n",
    "\n",
    "\n",
    "# Internal Server Error page\n",
    "@app.errorhandler(500)\n",
    "def internal_server_error(e):\n",
    "    return render_template('500.html'), 500\n",
    "\n",
    "\n",
    "# XSS Defense for name, family_name and message field\n",
    "\n",
    "# In the name and family name users may only write alphabetic characters\n",
    "# Doing that we can prevent ill intention users from injecting commands\n",
    "# that could be dangerous and at the same time we clean their response\n",
    "name_replacements = {\n",
    "    '<': '',\n",
    "    '>': '',\n",
    "    '=': '',\n",
    "    '\"': '',\n",
    "    '”': '',\n",
    "    '`': '',\n",
    "    \"'\": '',\n",
    "    '%': '',\n",
    "    '&': '',\n",
    "    '!': '',\n",
    "    '@': '',\n",
    "    '#': '',\n",
    "    '$': '',\n",
    "    '(': '',\n",
    "    ')': '',\n",
    "    '{': '',\n",
    "    '}': '',\n",
    "    '[': '',\n",
    "    ']': '',\n",
    "    '|': '',\n",
    "    '/': '',\n",
    "    \"\\\\\": '',\n",
    "    '?': '',\n",
    "    '+': '',\n",
    "    '-': '',\n",
    "    '_': '',\n",
    "    '*': '',\n",
    "    '^': '',\n",
    "    'ˆ': '',\n",
    "    '˜': '',\n",
    "    '~': '',\n",
    "    '.': '',\n",
    "    ',': '',\n",
    "    ':': '',\n",
    "    ';': '',\n",
    "    '0': '',\n",
    "    '1': '',\n",
    "    '2': '',\n",
    "    '3': '',\n",
    "    '4': '',\n",
    "    '5': '',\n",
    "    '6': '',\n",
    "    '7': '',\n",
    "    '8': '',\n",
    "    '9': ''\n",
    "}\n",
    "# In the message field we have to be more permissive, but we can restrain users\n",
    "# from using some characters that could be dangerous\n",
    "message_replacements = {\n",
    "    '<': '&lt',\n",
    "    '>': '&gt',\n",
    "    '=': '&eq',\n",
    "    '\"': '&quot',\n",
    "    '”': '&quot',\n",
    "    \"'\": '&apos',\n",
    "    '&': '&amp',\n",
    "    # '%': '',\n",
    "    # '!': '',\n",
    "    # '@': '',\n",
    "    # '#': '',\n",
    "    # '$': ''\n",
    "}\n",
    "\n",
    "# Function sanitizes the users input taking the string the user inserted inside\n",
    "# the form input and the dictionary list we build prior\n",
    "def replace_all(input_str, dic):\n",
    "    for i, j in dic.items():\n",
    "        input_str = input_str.replace(i, j)\n",
    "    return input_str\n",
    "\n",
    "\n",
    "# Creating the form Form Page\n",
    "@app.route('/main-form', methods=['GET', 'POST'])\n",
    "def main_form():\n",
    "    name = None\n",
    "    family_name = None\n",
    "    email = None\n",
    "    password = None\n",
    "    country = None\n",
    "    genre = None\n",
    "    subjects = None\n",
    "    message = None\n",
    "    hpfield = None\n",
    "    form = MainForm()\n",
    "\n",
    "    # Validate Form and check if honeypot was responded\n",
    "    if form.validate_on_submit() and form.hpfield.data == '':\n",
    "        name = replace_all(form.name.data, name_replacements),\n",
    "        form.name.data = ''\n",
    "        family_name = replace_all(form.family_name.data, name_replacements)\n",
    "        form.family_name.data = ''\n",
    "        email = form.email.data\n",
    "        form.email.data = ''\n",
    "        password = form.password.data\n",
    "        form.password.data = ''\n",
    "        country = form.country.data\n",
    "        form.country.data = ''\n",
    "        genre = form.genre.data\n",
    "        form.genre.data = ''\n",
    "        subjects = form.subjects.data\n",
    "        form.subjects.data = ''\n",
    "        message = replace_all(form.message.data, message_replacements)\n",
    "        form.message.data = ''\n",
    "        hpfield = form.hpfield.data\n",
    "\n",
    "        return render_template('success.html',\n",
    "                               name=name,\n",
    "                               family_name=family_name,\n",
    "                               email=email,\n",
    "                               password=password,\n",
    "                               country=country,\n",
    "                               genre=genre,\n",
    "                               subjects=subjects,\n",
    "                               hpfield=hpfield,\n",
    "                               message=message)\n",
    "\n",
    "    return render_template('main_form.html',\n",
    "                           name=name,\n",
    "                           family_name=family_name,\n",
    "                           email=email,\n",
    "                           password=password,\n",
    "                           country=country,\n",
    "                           genre=genre,\n",
    "                           subjects=subjects,\n",
    "                           message=message,\n",
    "                           hpfield=hpfield,\n",
    "                           form=form)\n",
    "\n",
    "\n",
    "if __name__ == '__main__':\n",
    "    app.run(debug=True)\n"
   ]
  },
  {
   "cell_type": "code",
   "execution_count": null,
   "metadata": {
    "vscode": {
     "languageId": "shellscript"
    }
   },
   "outputs": [],
   "source": [
    "touch templates/form.html"
   ]
  },
  {
   "cell_type": "code",
   "execution_count": null,
   "metadata": {
    "vscode": {
     "languageId": "html"
    }
   },
   "outputs": [],
   "source": [
    "{% extends 'base.html' %}\n",
    "\n",
    "\n",
    "{% block content %}\n",
    "\n",
    "    <div>\n",
    "        <h1>Main Form</h1>\n",
    "        <br/>\n",
    "        <br/>\n",
    "        <br/>\n",
    "\n",
    "        <form method=\"POST\">\n",
    "            {{ form.hidden_tag() }}\n",
    "\n",
    "            {{ form.name.label(class=\"form-label\") }}\n",
    "            {{ form.name(class=\"form-control\") }}\n",
    "            <br/>\n",
    "\n",
    "            {{ form.family_name.label(class=\"form-label\") }}\n",
    "            {{ form.family_name(class=\"form-control\") }}\n",
    "            <br/>\n",
    "\n",
    "            {{ form.email.label(class=\"form-label\") }}\n",
    "            {{ form.email(class=\"form-control\") }}\n",
    "            <br/>\n",
    "\n",
    "            {{ form.password.label(class=\"form-label\") }}\n",
    "            {{ form.password(class=\"form-control\") }}\n",
    "            <br/>\n",
    "\n",
    "            {{ form.country.label(class=\"form-label\") }}\n",
    "            {{ form.country(class=\"form-control\") }}\n",
    "            <br/>\n",
    "\n",
    "            {{ form.genre.label(class=\"form-label\") }}\n",
    "            {{ form.genre() }}\n",
    "            <br/>\n",
    "\n",
    "            {{ form.subjects.label(class=\"form-label\") }}\n",
    "            {{ form.subjects() }}\n",
    "            <br/>\n",
    "\n",
    "            {{ form.message.label(class=\"form-label\") }}\n",
    "            {{ form.message(class=\"form-control\") }}\n",
    "            <br/>\n",
    "\n",
    "            {{ form.hpfield.label(style=\"opacity:0;position:absolute;top:0;left:0;height:0;width:0;z-index:-1;\") }}\n",
    "            {{ form.hpfield(style=\"opacity:0;position:absolute;top:0;left:0;height:0;width:0;z-index:-1;\") }}\n",
    "            <br/>\n",
    "\n",
    "            {{ form.submit(class=\"btn btn-primary\") }}\n",
    "        </form>\n",
    "    </div>\n",
    "\n",
    "{% endblock %}\n"
   ]
  }
 ],
 "metadata": {
  "kernelspec": {
   "display_name": "Python 3.9.6 64-bit",
   "language": "python",
   "name": "python3"
  },
  "language_info": {
   "name": "python",
   "version": "3.9.6"
  },
  "orig_nbformat": 4,
  "vscode": {
   "interpreter": {
    "hash": "b0fa6594d8f4cbf19f97940f81e996739fb7646882a419484c72d19e05852a7e"
   }
  }
 },
 "nbformat": 4,
 "nbformat_minor": 2
}
